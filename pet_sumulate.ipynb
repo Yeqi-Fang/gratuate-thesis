{
 "cells": [
  {
   "cell_type": "code",
   "execution_count": null,
   "metadata": {},
   "outputs": [],
   "source": [
    "from pytomography.metadata import ObjectMeta\n",
    "from pytomography.metadata.PET import PETLMProjMeta\n",
    "from pytomography.projectors.PET import PETLMSystemMatrix\n",
    "from pytomography.algorithms import OSEM, BSREM\n",
    "from pytomography.priors import RelativeDifferencePrior\n",
    "from pytomography.likelihoods import PoissonLogLikelihood\n",
    "from pytomography.transforms.shared import GaussianFilter\n",
    "import matplotlib.pyplot as plt\n",
    "from pytomography.io.PET import clinical\n",
    "from pytomography.io.PET import gate, shared\n",
    "import numpy as np"
   ]
  },
  {
   "cell_type": "code",
   "execution_count": 3,
   "metadata": {},
   "outputs": [],
   "source": [
    "info = {'min_rsector_difference': np.float64(0.0),\n",
    "        'crystal_length': np.float64(0.0),\n",
    "        'radius': np.float64(253.7067),\n",
    "        'crystalTransNr': 16,\n",
    "        'crystalTransSpacing': np.float64(5.535),\n",
    "        'crystalAxialNr': 9,\n",
    "        'crystalAxialSpacing': np.float64(6.6533),\n",
    "        'submoduleAxialNr': 1,\n",
    "        'submoduleAxialSpacing': np.float64(0.0),\n",
    "        'submoduleTransNr': 1,\n",
    "        'submoduleTransSpacing': np.float64(0.0),\n",
    "        'moduleTransNr': 1,\n",
    "        'moduleTransSpacing': np.float64(0.0),\n",
    "        'moduleAxialNr': 6,\n",
    "        'moduleAxialSpacing': np.float64(89.82),\n",
    "        'rsectorTransNr': 18,\n",
    "        'rsectorAxialNr': 1,\n",
    "        'TOF': 1,\n",
    "        'num_tof_bins': np.float64(29.0),\n",
    "        'tof_range': np.float64(735.7705),\n",
    "        'tof_fwhm': np.float64(57.71),\n",
    "        'NrCrystalsPerRing': 288,\n",
    "        'NrRings': 54,\n",
    "        'firstCrystalAxis': 0}"
   ]
  },
  {
   "cell_type": "code",
   "execution_count": 4,
   "metadata": {},
   "outputs": [],
   "source": [
    "object_meta = ObjectMeta(\n",
    "    dr=(2.78,2.78,2.78), #mm\n",
    "    shape=(128,128,128) #voxels\n",
    ")"
   ]
  },
  {
   "cell_type": "code",
   "execution_count": null,
   "metadata": {},
   "outputs": [],
   "source": []
  }
 ],
 "metadata": {
  "kernelspec": {
   "display_name": "pytomography_env",
   "language": "python",
   "name": "python3"
  },
  "language_info": {
   "codemirror_mode": {
    "name": "ipython",
    "version": 3
   },
   "file_extension": ".py",
   "mimetype": "text/x-python",
   "name": "python",
   "nbconvert_exporter": "python",
   "pygments_lexer": "ipython3",
   "version": "3.9.21"
  }
 },
 "nbformat": 4,
 "nbformat_minor": 2
}
