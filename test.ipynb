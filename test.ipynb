{
 "cells": [
  {
   "cell_type": "code",
   "execution_count": 1,
   "metadata": {},
   "outputs": [],
   "source": [
    "import numpy as np\n",
    "\n",
    "# read /mnt/d/fyq/sinogram/reconstruction_npy_full_train/2000000000/listmode/listmode_data_minimal_0_2000000000.npz\n",
    "\n",
    "data = np.load('/mnt/d/fyq/sinogram/reconstruction_npy_full_train/2000000000/listmode/listmode_data_minimal_0_2000000000.npz')\n"
   ]
  },
  {
   "cell_type": "code",
   "execution_count": null,
   "metadata": {},
   "outputs": [
    {
     "data": {
      "text/plain": [
       "array([( 2753, 7701), ( 4593, 7682), ( 3930, 3358), ..., ( 7880,  412),\n",
       "       (14677, 5378), (12548, 9491)],\n",
       "      dtype=[('det1_id', '<u2'), ('det2_id', '<u2')])"
      ]
     },
     "execution_count": 3,
     "metadata": {},
     "output_type": "execute_result"
    }
   ],
   "source": []
  },
  {
   "cell_type": "code",
   "execution_count": null,
   "metadata": {},
   "outputs": [],
   "source": []
  }
 ],
 "metadata": {
  "kernelspec": {
   "display_name": "sinogram",
   "language": "python",
   "name": "python3"
  },
  "language_info": {
   "codemirror_mode": {
    "name": "ipython",
    "version": 3
   },
   "file_extension": ".py",
   "mimetype": "text/x-python",
   "name": "python",
   "nbconvert_exporter": "python",
   "pygments_lexer": "ipython3",
   "version": "3.9.21"
  }
 },
 "nbformat": 4,
 "nbformat_minor": 2
}
