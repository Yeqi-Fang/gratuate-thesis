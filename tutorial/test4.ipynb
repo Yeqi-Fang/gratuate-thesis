{
 "cells": [
  {
   "cell_type": "code",
   "execution_count": 1,
   "metadata": {},
   "outputs": [],
   "source": [
    "from __future__ import annotations\n",
    "import torch\n",
    "import pytomography\n",
    "from pytomography.metadata import ObjectMeta\n",
    "from pytomography.metadata.PET import PETSinogramPolygonProjMeta\n",
    "from pytomography.projectors.PET import PETSinogramSystemMatrix\n",
    "from pytomography.algorithms import OSEM\n",
    "from pytomography.io.PET import gate, shared\n",
    "from pytomography.likelihoods import PoissonLogLikelihood\n",
    "from pytomography.utils import sss\n",
    "import os\n",
    "from pytomography.transforms.shared import GaussianFilter\n",
    "import matplotlib.pyplot as plt"
   ]
  },
  {
   "cell_type": "code",
   "execution_count": 2,
   "metadata": {},
   "outputs": [],
   "source": [
    "LOAD_FROM_ROOT = True # Set to true if .pt files not generated"
   ]
  },
  {
   "cell_type": "code",
   "execution_count": 3,
   "metadata": {},
   "outputs": [],
   "source": [
    "path = r\"D:\\Datasets\\PET_GATE_files_new\"\n",
    "# Macro path where PET scanner geometry file is defined\n",
    "macro_path = os.path.join(path, 'mMR_Geometry.mac')\n",
    "# Get information dictionary about the scanner\n",
    "info = gate.get_detector_info(path = macro_path,\n",
    "    mean_interaction_depth=9, min_rsector_difference=0)\n",
    "# Paths to all ROOT files containing data\n",
    "paths = [os.path.join(path, f'all_physics/mMR_voxBrain_{i}.root') for i in range(1, 55)]"
   ]
  },
  {
   "cell_type": "code",
   "execution_count": 4,
   "metadata": {},
   "outputs": [
    {
     "data": {
      "text/plain": [
       "{'min_rsector_difference': 0,\n",
       " 'crystal_length': np.float32(20.0),\n",
       " 'radius': np.float32(337.0),\n",
       " 'crystalTransNr': 8,\n",
       " 'crystalTransSpacing': np.float32(4.0),\n",
       " 'crystalAxialNr': 8,\n",
       " 'crystalAxialSpacing': np.float32(4.0),\n",
       " 'submoduleAxialNr': 1,\n",
       " 'submoduleAxialSpacing': 0,\n",
       " 'submoduleTransNr': 1,\n",
       " 'submoduleTransSpacing': 0,\n",
       " 'moduleTransNr': 1,\n",
       " 'moduleTransSpacing': np.float32(0.0),\n",
       " 'moduleAxialNr': 8,\n",
       " 'moduleAxialSpacing': np.float32(32.25),\n",
       " 'rsectorTransNr': 56,\n",
       " 'rsectorAxialNr': 1,\n",
       " 'NrCrystalsPerRing': 448,\n",
       " 'NrRings': 64,\n",
       " 'firstCrystalAxis': 1}"
      ]
     },
     "execution_count": 4,
     "metadata": {},
     "output_type": "execute_result"
    }
   ],
   "source": [
    "info"
   ]
  },
  {
   "cell_type": "code",
   "execution_count": 5,
   "metadata": {},
   "outputs": [
    {
     "ename": "RuntimeError",
     "evalue": "[enforce fail at alloc_cpu.cpp:114] data. DefaultCPUAllocator: not enough memory: you tried to allocate 6576668672 bytes.",
     "output_type": "error",
     "traceback": [
      "\u001b[1;31m---------------------------------------------------------------------------\u001b[0m",
      "\u001b[1;31mRuntimeError\u001b[0m                              Traceback (most recent call last)",
      "Cell \u001b[1;32mIn[5], line 6\u001b[0m\n\u001b[0;32m      2\u001b[0m normalization_paths \u001b[38;5;241m=\u001b[39m [os\u001b[38;5;241m.\u001b[39mpath\u001b[38;5;241m.\u001b[39mjoin(path, \u001b[38;5;124mf\u001b[39m\u001b[38;5;124m'\u001b[39m\u001b[38;5;124mnormalization_scan/mMR_Norm_\u001b[39m\u001b[38;5;132;01m{\u001b[39;00mi\u001b[38;5;132;01m}\u001b[39;00m\u001b[38;5;124m.root\u001b[39m\u001b[38;5;124m'\u001b[39m) \u001b[38;5;28;01mfor\u001b[39;00m i \u001b[38;5;129;01min\u001b[39;00m \u001b[38;5;28mrange\u001b[39m(\u001b[38;5;241m1\u001b[39m,\u001b[38;5;241m37\u001b[39m,\u001b[38;5;241m3\u001b[39m)]\n\u001b[0;32m      4\u001b[0m \u001b[38;5;66;03m# Get eta in listmode format\u001b[39;00m\n\u001b[1;32m----> 6\u001b[0m normalization_weights \u001b[38;5;241m=\u001b[39m \u001b[43mgate\u001b[49m\u001b[38;5;241;43m.\u001b[39;49m\u001b[43mget_normalization_weights_cylinder_calibration\u001b[49m\u001b[43m(\u001b[49m\n\u001b[0;32m      7\u001b[0m \u001b[43m    \u001b[49m\u001b[43mnormalization_paths\u001b[49m\u001b[43m,\u001b[49m\n\u001b[0;32m      8\u001b[0m \u001b[43m    \u001b[49m\u001b[43minfo\u001b[49m\u001b[43m,\u001b[49m\n\u001b[0;32m      9\u001b[0m \u001b[43m    \u001b[49m\u001b[43mcylinder_radius\u001b[49m\u001b[43m \u001b[49m\u001b[38;5;241;43m=\u001b[39;49m\u001b[43m \u001b[49m\u001b[38;5;241;43m318\u001b[39;49m\u001b[43m,\u001b[49m\u001b[43m \u001b[49m\u001b[38;5;66;43;03m# mm (radius of calibration cylindrical shell,\u001b[39;49;00m\n\u001b[0;32m     10\u001b[0m \u001b[43m    \u001b[49m\u001b[43minclude_randoms\u001b[49m\u001b[38;5;241;43m=\u001b[39;49m\u001b[38;5;28;43;01mFalse\u001b[39;49;00m\n\u001b[0;32m     11\u001b[0m \u001b[43m\u001b[49m\u001b[43m)\u001b[49m\n\u001b[0;32m     13\u001b[0m normalization_sinogram \u001b[38;5;241m=\u001b[39m gate\u001b[38;5;241m.\u001b[39mget_norm_sinogram_from_listmode_data(normalization_weights, macro_path)\n\u001b[0;32m     14\u001b[0m torch\u001b[38;5;241m.\u001b[39msave(normalization_sinogram, os\u001b[38;5;241m.\u001b[39mpath\u001b[38;5;241m.\u001b[39mjoin(path, \u001b[38;5;124m'\u001b[39m\u001b[38;5;124mnormalization_sinogram.pt\u001b[39m\u001b[38;5;124m'\u001b[39m))\n",
      "File \u001b[1;32mc:\\Users\\fangy\\miniconda3\\envs\\pytomography_env\\lib\\site-packages\\pytomography\\io\\PET\\gate.py:361\u001b[0m, in \u001b[0;36mget_normalization_weights_cylinder_calibration\u001b[1;34m(paths, info, cylinder_radius, include_randoms)\u001b[0m\n\u001b[0;32m    359\u001b[0m         vals \u001b[38;5;241m=\u001b[39m get_symmetry_histogram_from_ROOTfile(f, info, include_randoms\u001b[38;5;241m=\u001b[39minclude_randoms)\n\u001b[0;32m    360\u001b[0m         histo \u001b[38;5;241m+\u001b[39m\u001b[38;5;241m=\u001b[39m torch\u001b[38;5;241m.\u001b[39mhistogramdd(vals\u001b[38;5;241m.\u001b[39mto(torch\u001b[38;5;241m.\u001b[39mfloat32), bin_edges)[\u001b[38;5;241m0\u001b[39m]\n\u001b[1;32m--> 361\u001b[0m vals_all_pairs \u001b[38;5;241m=\u001b[39m \u001b[43mget_symmetry_histogram_all_combos\u001b[49m\u001b[43m(\u001b[49m\u001b[43minfo\u001b[49m\u001b[43m)\u001b[49m\n\u001b[0;32m    362\u001b[0m N_bins \u001b[38;5;241m=\u001b[39m torch\u001b[38;5;241m.\u001b[39mhistogramdd(vals_all_pairs\u001b[38;5;241m.\u001b[39mto(torch\u001b[38;5;241m.\u001b[39mfloat32), bin_edges)[\u001b[38;5;241m0\u001b[39m]\n\u001b[0;32m    363\u001b[0m \u001b[38;5;66;03m# exploits the fact that vals_all_pairs is in order of ascending detector ids\u001b[39;00m\n",
      "File \u001b[1;32mc:\\Users\\fangy\\miniconda3\\envs\\pytomography_env\\lib\\site-packages\\pytomography\\io\\PET\\gate.py:321\u001b[0m, in \u001b[0;36mget_symmetry_histogram_all_combos\u001b[1;34m(info)\u001b[0m\n\u001b[0;32m    312\u001b[0m \u001b[38;5;28;01mdef\u001b[39;00m \u001b[38;5;21mget_symmetry_histogram_all_combos\u001b[39m(info: \u001b[38;5;28mdict\u001b[39m) \u001b[38;5;241m-\u001b[39m\u001b[38;5;241m>\u001b[39m torch\u001b[38;5;241m.\u001b[39mTensor:\n\u001b[0;32m    313\u001b[0m \u001b[38;5;250m    \u001b[39m\u001b[38;5;124;03m\"\"\"Obtains the symmetry histogram for detector sensitivity corresponding to all possible detector pair combinations\u001b[39;00m\n\u001b[0;32m    314\u001b[0m \n\u001b[0;32m    315\u001b[0m \u001b[38;5;124;03m    Args:\u001b[39;00m\n\u001b[1;32m   (...)\u001b[0m\n\u001b[0;32m    319\u001b[0m \u001b[38;5;124;03m        torch.Tensor: Histogram corresponding to all possible detector pair combinations. This simply counts the number of detector pairs in each bin of the histogram.\u001b[39;00m\n\u001b[0;32m    320\u001b[0m \u001b[38;5;124;03m    \"\"\"\u001b[39;00m\n\u001b[1;32m--> 321\u001b[0m     ids_trans_crystal, ids_axial_crystal, ids_trans_submodule, ids_axial_submodule, ids_trans_module, ids_axial_module, ids_trans_rsector, ids_axial_rsector \u001b[38;5;241m=\u001b[39m \u001b[43mget_axial_trans_ids_from_info\u001b[49m\u001b[43m(\u001b[49m\u001b[43minfo\u001b[49m\u001b[43m,\u001b[49m\u001b[43m \u001b[49m\u001b[43mreturn_combinations\u001b[49m\u001b[38;5;241;43m=\u001b[39;49m\u001b[38;5;28;43;01mTrue\u001b[39;49;00m\u001b[43m,\u001b[49m\u001b[43m \u001b[49m\u001b[43msort_by_detector_ids\u001b[49m\u001b[38;5;241;43m=\u001b[39;49m\u001b[38;5;28;43;01mTrue\u001b[39;49;00m\u001b[43m)\u001b[49m\n\u001b[0;32m    322\u001b[0m     ids_delta_axial_submodule \u001b[38;5;241m=\u001b[39m (ids_axial_submodule[:,\u001b[38;5;241m1\u001b[39m] \u001b[38;5;241m-\u001b[39m ids_axial_submodule[:,\u001b[38;5;241m0\u001b[39m]) \u001b[38;5;241m+\u001b[39m (info[\u001b[38;5;124m'\u001b[39m\u001b[38;5;124msubmoduleAxialNr\u001b[39m\u001b[38;5;124m'\u001b[39m] \u001b[38;5;241m-\u001b[39m \u001b[38;5;241m1\u001b[39m)\n\u001b[0;32m    323\u001b[0m     ids_delta_axial_module \u001b[38;5;241m=\u001b[39m (ids_axial_module[:,\u001b[38;5;241m1\u001b[39m] \u001b[38;5;241m-\u001b[39m ids_axial_module[:,\u001b[38;5;241m0\u001b[39m]) \u001b[38;5;241m+\u001b[39m (info[\u001b[38;5;124m'\u001b[39m\u001b[38;5;124mmoduleAxialNr\u001b[39m\u001b[38;5;124m'\u001b[39m] \u001b[38;5;241m-\u001b[39m \u001b[38;5;241m1\u001b[39m)\n",
      "File \u001b[1;32mc:\\Users\\fangy\\miniconda3\\envs\\pytomography_env\\lib\\site-packages\\pytomography\\io\\PET\\shared.py:355\u001b[0m, in \u001b[0;36mget_axial_trans_ids_from_info\u001b[1;34m(info, return_combinations, sort_by_detector_ids)\u001b[0m\n\u001b[0;32m    353\u001b[0m ids_axial_submodule \u001b[38;5;241m=\u001b[39m torch\u001b[38;5;241m.\u001b[39mcombinations(ids_axial_submodule, \u001b[38;5;241m2\u001b[39m)\n\u001b[0;32m    354\u001b[0m ids_trans_module \u001b[38;5;241m=\u001b[39m torch\u001b[38;5;241m.\u001b[39mcombinations(ids_trans_module, \u001b[38;5;241m2\u001b[39m)\n\u001b[1;32m--> 355\u001b[0m ids_axial_module \u001b[38;5;241m=\u001b[39m \u001b[43mtorch\u001b[49m\u001b[38;5;241;43m.\u001b[39;49m\u001b[43mcombinations\u001b[49m\u001b[43m(\u001b[49m\u001b[43mids_axial_module\u001b[49m\u001b[43m,\u001b[49m\u001b[43m \u001b[49m\u001b[38;5;241;43m2\u001b[39;49m\u001b[43m)\u001b[49m\n\u001b[0;32m    356\u001b[0m ids_trans_rsector \u001b[38;5;241m=\u001b[39m torch\u001b[38;5;241m.\u001b[39mcombinations(ids_trans_rsector, \u001b[38;5;241m2\u001b[39m)\n\u001b[0;32m    357\u001b[0m ids_axial_rsector \u001b[38;5;241m=\u001b[39m torch\u001b[38;5;241m.\u001b[39mcombinations(ids_axial_rsector, \u001b[38;5;241m2\u001b[39m)\n",
      "\u001b[1;31mRuntimeError\u001b[0m: [enforce fail at alloc_cpu.cpp:114] data. DefaultCPUAllocator: not enough memory: you tried to allocate 6576668672 bytes."
     ]
    }
   ],
   "source": [
    "if LOAD_FROM_ROOT:\n",
    "    normalization_paths = [os.path.join(path, f'normalization_scan/mMR_Norm_{i}.root') for i in range(1,37,3)]\n",
    "\n",
    "    # Get eta in listmode format\n",
    "    \n",
    "    normalization_weights = gate.get_normalization_weights_cylinder_calibration(\n",
    "        normalization_paths,\n",
    "        info,\n",
    "        cylinder_radius = 318, # mm (radius of calibration cylindrical shell,\n",
    "        include_randoms=False\n",
    "    )\n",
    "\n",
    "    normalization_sinogram = gate.get_norm_sinogram_from_listmode_data(normalization_weights, macro_path)\n",
    "    torch.save(normalization_sinogram, os.path.join(path, 'normalization_sinogram.pt'))\n",
    "normalization_sinogram = torch.load(os.path.join(path, 'normalization_sinogram.pt'))"
   ]
  },
  {
   "cell_type": "code",
   "execution_count": null,
   "metadata": {},
   "outputs": [],
   "source": []
  }
 ],
 "metadata": {
  "kernelspec": {
   "display_name": "pytomography_env",
   "language": "python",
   "name": "python3"
  },
  "language_info": {
   "codemirror_mode": {
    "name": "ipython",
    "version": 3
   },
   "file_extension": ".py",
   "mimetype": "text/x-python",
   "name": "python",
   "nbconvert_exporter": "python",
   "pygments_lexer": "ipython3",
   "version": "3.9.21"
  }
 },
 "nbformat": 4,
 "nbformat_minor": 2
}
